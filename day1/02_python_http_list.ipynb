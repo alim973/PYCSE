{
 "cells": [
  {
   "cell_type": "code",
   "execution_count": 38,
   "metadata": {},
   "outputs": [
    {
     "name": "stdout",
     "output_type": "stream",
     "text": [
      "list of protocol names\n",
      "['http', 'https', 'ftp', 'ssh', 'sftp', 'smb', 'telnet']\n"
     ]
    }
   ],
   "source": [
    "print (\"list of protocol names\")\n",
    "\n",
    "protocols_list=[\"http\",\"https\",\"ftp\",\"ssh\",\"sftp\",\"smb\",\"telnet\"]\n",
    "\n",
    "print (protocols_list)"
   ]
  },
  {
   "cell_type": "code",
   "execution_count": 39,
   "metadata": {},
   "outputs": [
    {
     "name": "stdout",
     "output_type": "stream",
     "text": [
      "http\n",
      "https\n",
      "ftp\n",
      "ssh\n",
      "sftp\n",
      "smb\n",
      "telnet\n"
     ]
    }
   ],
   "source": [
    "for protocol in protocols_list:\n",
    "    print(protocol)\n",
    "    \n",
    "    "
   ]
  },
  {
   "cell_type": "code",
   "execution_count": 40,
   "metadata": {},
   "outputs": [
    {
     "name": "stdout",
     "output_type": "stream",
     "text": [
      "['http', 'https', 'ftp', 'ssh', 'sftp', 'smb', 'telnet', 'snmp']\n"
     ]
    }
   ],
   "source": [
    "protocols_list.append(\"snmp\")\n",
    "print(protocols_list)\n"
   ]
  },
  {
   "cell_type": "code",
   "execution_count": 41,
   "metadata": {},
   "outputs": [
    {
     "name": "stdout",
     "output_type": "stream",
     "text": [
      "1\n"
     ]
    }
   ],
   "source": [
    "print(protocols_list.count(\"snmp\"))\n",
    "# print(protocols_list.count)"
   ]
  },
  {
   "cell_type": "code",
   "execution_count": 42,
   "metadata": {},
   "outputs": [
    {
     "data": {
      "text/plain": [
       "7"
      ]
     },
     "execution_count": 42,
     "metadata": {},
     "output_type": "execute_result"
    }
   ],
   "source": [
    "protocols_list.index('snmp')\n"
   ]
  },
  {
   "cell_type": "code",
   "execution_count": 43,
   "metadata": {},
   "outputs": [
    {
     "name": "stdout",
     "output_type": "stream",
     "text": [
      "['tcp', 'http', 'https', 'ftp', 'ssh', 'sftp', 'smb', 'telnet', 'snmp']\n"
     ]
    }
   ],
   "source": [
    "protocols_list.insert(0,'tcp')\n",
    "print(protocols_list)"
   ]
  },
  {
   "cell_type": "code",
   "execution_count": 44,
   "metadata": {},
   "outputs": [
    {
     "data": {
      "text/plain": [
       "'snmp'"
      ]
     },
     "execution_count": 44,
     "metadata": {},
     "output_type": "execute_result"
    }
   ],
   "source": [
    "#how to use pop\n",
    "\n",
    "protocols_list.pop()\n"
   ]
  },
  {
   "cell_type": "code",
   "execution_count": 45,
   "metadata": {},
   "outputs": [],
   "source": [
    "# remve\n",
    "protocols_list.remove('tcp')\n"
   ]
  },
  {
   "cell_type": "code",
   "execution_count": 46,
   "metadata": {},
   "outputs": [
    {
     "name": "stdout",
     "output_type": "stream",
     "text": [
      "['http', 'https', 'ftp', 'ssh', 'sftp', 'smb', 'telnet']\n"
     ]
    }
   ],
   "source": [
    "print (protocols_list)"
   ]
  },
  {
   "cell_type": "code",
   "execution_count": 47,
   "metadata": {},
   "outputs": [
    {
     "name": "stdout",
     "output_type": "stream",
     "text": [
      "['http', 'ftp', 'ssh', 'sftp', 'smb', 'telnet']\n"
     ]
    }
   ],
   "source": [
    "protocols_list.pop(1)\n",
    "print (protocols_list)"
   ]
  },
  {
   "cell_type": "code",
   "execution_count": 48,
   "metadata": {},
   "outputs": [
    {
     "name": "stdout",
     "output_type": "stream",
     "text": [
      "['ftp', 'http', 'sftp', 'smb', 'ssh', 'telnet']\n"
     ]
    }
   ],
   "source": [
    "protocols_list.sort()\n",
    "print(protocols_list)\n"
   ]
  },
  {
   "cell_type": "code",
   "execution_count": 49,
   "metadata": {},
   "outputs": [
    {
     "name": "stdout",
     "output_type": "stream",
     "text": [
      "['telnet', 'ssh', 'smb', 'sftp', 'http', 'ftp']\n"
     ]
    }
   ],
   "source": [
    "protocols_list.sort(reverse=True)\n",
    "print(protocols_list)"
   ]
  }
 ],
 "metadata": {
  "kernelspec": {
   "display_name": "Python 3",
   "language": "python",
   "name": "python3"
  },
  "language_info": {
   "codemirror_mode": {
    "name": "ipython",
    "version": 3
   },
   "file_extension": ".py",
   "mimetype": "text/x-python",
   "name": "python",
   "nbconvert_exporter": "python",
   "pygments_lexer": "ipython3",
   "version": "3.10.11"
  }
 },
 "nbformat": 4,
 "nbformat_minor": 2
}
