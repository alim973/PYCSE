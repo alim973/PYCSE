{
 "cells": [
  {
   "cell_type": "code",
   "execution_count": 1,
   "metadata": {},
   "outputs": [
    {
     "name": "stdout",
     "output_type": "stream",
     "text": [
      "('http', 'https', 'ftp', 'ssh', 'sftp', 'smb', 'telnet')\n"
     ]
    }
   ],
   "source": [
    "\n",
    "\n",
    "protocols_Tuple=(\"http\",\"https\",\"ftp\",\"ssh\",\"sftp\",\"smb\",\"telnet\")\n",
    "\n",
    "print (protocols_Tuple)"
   ]
  },
  {
   "cell_type": "code",
   "execution_count": 3,
   "metadata": {},
   "outputs": [
    {
     "ename": "AttributeError",
     "evalue": "'tuple' object has no attribute 'remove'",
     "output_type": "error",
     "traceback": [
      "\u001b[1;31m---------------------------------------------------------------------------\u001b[0m",
      "\u001b[1;31mAttributeError\u001b[0m                            Traceback (most recent call last)",
      "\u001b[1;32mc:\\Users\\603-16\\Desktop\\PYCSE\\03_python_tuples.ipynb Cell 2\u001b[0m line \u001b[0;36m1\n\u001b[1;32m----> <a href='vscode-notebook-cell:/c%3A/Users/603-16/Desktop/PYCSE/03_python_tuples.ipynb#W1sZmlsZQ%3D%3D?line=0'>1</a>\u001b[0m protocols_Tuple\u001b[39m.\u001b[39;49mremove(ftp)\n",
      "\u001b[1;31mAttributeError\u001b[0m: 'tuple' object has no attribute 'remove'"
     ]
    }
   ],
   "source": [
    "protocols_Tuple.remove(ftp)\n"
   ]
  }
 ],
 "metadata": {
  "kernelspec": {
   "display_name": "Python 3",
   "language": "python",
   "name": "python3"
  },
  "language_info": {
   "codemirror_mode": {
    "name": "ipython",
    "version": 3
   },
   "file_extension": ".py",
   "mimetype": "text/x-python",
   "name": "python",
   "nbconvert_exporter": "python",
   "pygments_lexer": "ipython3",
   "version": "3.10.11"
  }
 },
 "nbformat": 4,
 "nbformat_minor": 2
}
