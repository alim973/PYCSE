{
 "cells": [
  {
   "cell_type": "code",
   "execution_count": 3,
   "metadata": {},
   "outputs": [
    {
     "name": "stdout",
     "output_type": "stream",
     "text": [
      "{'ftp': 21, 'ssh': 22, 'smtp': 25, 'http': 80}\n"
     ]
    }
   ],
   "source": [
    "#lisf of services \n",
    "services={\"ftp\":21,\"ssh\":22, \"smtp\":25, \"http\":80}\n",
    "print(services)\n",
    "          "
   ]
  },
  {
   "cell_type": "code",
   "execution_count": 4,
   "metadata": {},
   "outputs": [
    {
     "name": "stdout",
     "output_type": "stream",
     "text": [
      "{'192.167.0.80': 80, '192.167.0.43': 443, '192.167.80.80': 8080}\n"
     ]
    }
   ],
   "source": [
    "sockets={\"192.167.0.80\":80,\"192.167.0.43\":443,\"192.167.80.80\":8080}\n",
    "print(sockets)"
   ]
  },
  {
   "cell_type": "code",
   "execution_count": 5,
   "metadata": {},
   "outputs": [
    {
     "data": {
      "text/plain": [
       "21"
      ]
     },
     "execution_count": 5,
     "metadata": {},
     "output_type": "execute_result"
    }
   ],
   "source": [
    "services.get(\"ftp\")"
   ]
  },
  {
   "cell_type": "code",
   "execution_count": 6,
   "metadata": {},
   "outputs": [
    {
     "name": "stdout",
     "output_type": "stream",
     "text": [
      "{'dns': 53, 'dhcp': 67, 'tftp': 69}\n"
     ]
    }
   ],
   "source": [
    "service2={\"dns\":53,\"dhcp\":67, \"tftp\":69, \"ssh\":22}\n",
    "\n",
    "print (service2)\n",
    "\n"
   ]
  },
  {
   "cell_type": "code",
   "execution_count": 7,
   "metadata": {},
   "outputs": [
    {
     "name": "stdout",
     "output_type": "stream",
     "text": [
      "{'ftp': 21, 'ssh': 22, 'smtp': 25, 'http': 80, 'dns': 53, 'dhcp': 67, 'tftp': 69}\n"
     ]
    }
   ],
   "source": [
    "services.update(service2)\n",
    "print(services)"
   ]
  },
  {
   "cell_type": "code",
   "execution_count": 9,
   "metadata": {},
   "outputs": [
    {
     "name": "stdout",
     "output_type": "stream",
     "text": [
      "dict_keys(['ftp', 'ssh', 'smtp', 'http', 'dns', 'dhcp', 'tftp'])\n"
     ]
    }
   ],
   "source": [
    "print(services.keys())"
   ]
  },
  {
   "cell_type": "code",
   "execution_count": 12,
   "metadata": {},
   "outputs": [
    {
     "name": "stdout",
     "output_type": "stream",
     "text": [
      "ftp 21\n",
      "ssh 22\n",
      "smtp 25\n",
      "http 80\n",
      "dns 53\n",
      "dhcp 67\n",
      "tftp 69\n"
     ]
    }
   ],
   "source": [
    "#for loop  in reading servicees key,value\n",
    "for key, value in services.items():\n",
    "    print(key, value)"
   ]
  }
 ],
 "metadata": {
  "kernelspec": {
   "display_name": "Python 3",
   "language": "python",
   "name": "python3"
  },
  "language_info": {
   "codemirror_mode": {
    "name": "ipython",
    "version": 3
   },
   "file_extension": ".py",
   "mimetype": "text/x-python",
   "name": "python",
   "nbconvert_exporter": "python",
   "pygments_lexer": "ipython3",
   "version": "3.10.11"
  }
 },
 "nbformat": 4,
 "nbformat_minor": 2
}
